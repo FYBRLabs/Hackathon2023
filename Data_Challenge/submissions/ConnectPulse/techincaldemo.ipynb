{
 "cells": [
  {
   "cell_type": "code",
   "execution_count": 17,
   "metadata": {},
   "outputs": [],
   "source": [
    "import numpy as np\n",
    "import pandas as pd\n",
    "import tensorflow as tf\n",
    "import keras"
   ]
  },
  {
   "cell_type": "code",
   "execution_count": 18,
   "metadata": {},
   "outputs": [],
   "source": [
    "df2 = pd.read_csv('../../Data/test_data.csv')\n",
    "df3 = pd.read_csv('../../Data/customers_ToBePredicted.csv')\n",
    "# Drop some data that is unnecessary or has one unique value\n",
    "df2 = df2.drop(['clli', 'year', 'month', 'date', 'rack', 'shelf', 'objectType', 'Stops_null', 'Stops_NAS-Error', 'Stops_Port-Error', 'Stops_Service-Unavailable', 'Stops_User-Error'], axis=1)\n",
    "# Drop some data that has too many null values ( > 60000)\n",
    "df2 = df2.drop(['Stops_Admin-Reset', 'Stops_Idle-Timeout', 'Stops_Lost-Carrier', 'Stops_Lost-Service', 'Stops_NAS-Request', 'Stops_Session-Timeout', 'Stops_User-Request', 'INTENT', 'CALLCOMPLETIONREASON', 'TSO_calls_count', 'REPORT_DATE'], axis=1)\n",
    "# Drop some data that has too many null values ( > 50000)\n",
    "df2 = df2.drop(['videoAniAgcSetting', 'videoAniOpInfoOpticalSignalLevel', 'videoAniOpInfoOpticalSignalLevelDbm', 'videoAniOpInfoRfPowerLevel'], axis=1)\n",
    "# Drop some data that may be too hard to work with (for example: low unique)\n",
    "df2 = df2.drop(['modemType', 'laserBiasThreshold', 'status', 'ranged', 'videoAniAgcModePlanned', 'videoAniOperState', 'score'], axis=1)\n",
    "df2['berDownstream'] = df2['berDownstream'].fillna(df2['berDownstream'].median())\n",
    "df2['berUpstream'] = df2['berUpstream'].fillna(df2['berUpstream'].median())\n",
    "df2['networkRxLevel'] = df2['networkRxLevel'].fillna(df2['networkRxLevel'].median())\n",
    "df2['modemTxLevel'] = df2['modemTxLevel'].fillna(df2['modemTxLevel'].median())\n",
    "df2['distance'] = df2['distance'].fillna(df2['distance'].median())\n",
    "df2['laserBiasCurrent'] = pd.to_numeric(df2['laserBiasCurrent'],errors = 'coerce')\n",
    "df2['laserBiasCurrent'] = df2['laserBiasCurrent'].fillna(df2['laserBiasCurrent'].median())\n",
    "df2['opticalTemperature'] = df2['opticalTemperature'].fillna(df2['opticalTemperature'].median())\n",
    "#df2['service_repair'] = df2['service_repair'].fillna(0)\n"
   ]
  },
  {
   "cell_type": "code",
   "execution_count": 19,
   "metadata": {},
   "outputs": [
    {
     "name": "stdout",
     "output_type": "stream",
     "text": [
      "1/1 [==============================] - 0s 48ms/step\n",
      "SERVICE REPAIR NEEDED\n",
      "1.0\n"
     ]
    }
   ],
   "source": [
    "reconstructed_model = keras.models.load_model(\"model2.keras\")\n",
    "features = ['berDownstream', 'berUpstream', 'networkRxLevel', 'modemTxLevel', 'distance']\n",
    "x_test = df2.loc[1564056361919 == df2['Customer']]\n",
    "x_test = x_test[features]\n",
    "prediction = reconstructed_model.predict(x_test)\n",
    "if(prediction.max().round() == 1):\n",
    "    print(\"SERVICE REPAIR NEEDED\")\n",
    "print(prediction.max().round())"
   ]
  }
 ],
 "metadata": {
  "kernelspec": {
   "display_name": "base",
   "language": "python",
   "name": "python3"
  },
  "language_info": {
   "codemirror_mode": {
    "name": "ipython",
    "version": 3
   },
   "file_extension": ".py",
   "mimetype": "text/x-python",
   "name": "python",
   "nbconvert_exporter": "python",
   "pygments_lexer": "ipython3",
   "version": "3.11.5"
  }
 },
 "nbformat": 4,
 "nbformat_minor": 2
}
