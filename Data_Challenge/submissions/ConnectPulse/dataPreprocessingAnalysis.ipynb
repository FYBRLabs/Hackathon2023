{
 "cells": [
  {
   "cell_type": "code",
   "execution_count": 1,
   "metadata": {},
   "outputs": [],
   "source": [
    "import pandas as pd\n",
    "import seaborn as sns\n",
    "import matplotlib.pyplot as plt\n",
    "from sklearn.preprocessing import LabelEncoder"
   ]
  },
  {
   "cell_type": "code",
   "execution_count": 2,
   "metadata": {},
   "outputs": [
    {
     "name": "stderr",
     "output_type": "stream",
     "text": [
      "C:\\Users\\CrazE\\AppData\\Local\\Temp\\ipykernel_13868\\626279252.py:1: DtypeWarning: Columns (25) have mixed types. Specify dtype option on import or set low_memory=False.\n",
      "  df = pd.read_csv('../../Data/training_data.csv')\n"
     ]
    }
   ],
   "source": [
    "df = pd.read_csv('../../Data/training_data.csv')"
   ]
  },
  {
   "cell_type": "markdown",
   "metadata": {},
   "source": [
    "## Data Preprocessing"
   ]
  },
  {
   "cell_type": "markdown",
   "metadata": {},
   "source": [
    "### Clean Data"
   ]
  },
  {
   "cell_type": "markdown",
   "metadata": {},
   "source": [
    "Check for number of null values, unique values, and data types"
   ]
  },
  {
   "cell_type": "code",
   "execution_count": 3,
   "metadata": {},
   "outputs": [
    {
     "data": {
      "text/plain": [
       "Customer                                   0\n",
       "clli                                       0\n",
       "year                                       0\n",
       "month                                      0\n",
       "day                                        0\n",
       "date                                       0\n",
       "rack                                       0\n",
       "shelf                                      0\n",
       "slot                                       0\n",
       "port                                       0\n",
       "ont                                        0\n",
       "objectName                                 0\n",
       "berDownstream                          35763\n",
       "berUpstream                                3\n",
       "objectType                                 0\n",
       "networkRxLevel                         10354\n",
       "modelRxLevel                               0\n",
       "modemTxLevel                             107\n",
       "distance                                 366\n",
       "opticalTemperature                         1\n",
       "opticalVoltage                             0\n",
       "modemType                                 87\n",
       "status                                     3\n",
       "ranged                                     3\n",
       "laserBiasThreshold                     36129\n",
       "laserBiasCurrent                       26946\n",
       "videoAniAgcModePlanned                 36129\n",
       "videoAniAgcSetting                     54903\n",
       "videoAniOpInfoOpticalSignalLevel       54903\n",
       "videoAniOpInfoOpticalSignalLevelDbm    54903\n",
       "videoAniOpInfoRfPowerLevel             54903\n",
       "videoAniOperState                      36129\n",
       "speedProfile                               0\n",
       "Stops_null                             63075\n",
       "Stops_Admin-Reset                      62963\n",
       "Stops_Idle-Timeout                     60425\n",
       "Stops_Lost-Carrier                     62963\n",
       "Stops_Lost-Service                     62931\n",
       "Stops_NAS-Error                        63075\n",
       "Stops_NAS-Request                      62579\n",
       "Stops_Port-Error                       63075\n",
       "Stops_Service-Unavailable              63075\n",
       "Stops_Session-Timeout                  62870\n",
       "Stops_User-Error                       63075\n",
       "Stops_User-Request                     62144\n",
       "INTENT                                 61715\n",
       "CALLCOMPLETIONREASON                   61722\n",
       "alarms                                     0\n",
       "Alarm_SECS                                 0\n",
       "Session_SECS                               0\n",
       "total_stops                                0\n",
       "TSO_calls_count                        61646\n",
       "SA_TSO                                     0\n",
       "score                                      0\n",
       "REPORT_DATE                            61691\n",
       "service_repair                         61691\n",
       "TMAX                                    1179\n",
       "TMIN                                    1094\n",
       "PRCP                                     565\n",
       "SNOW                                   38720\n",
       "dtype: int64"
      ]
     },
     "execution_count": 3,
     "metadata": {},
     "output_type": "execute_result"
    }
   ],
   "source": [
    "df.isnull().sum()"
   ]
  },
  {
   "cell_type": "code",
   "execution_count": 4,
   "metadata": {},
   "outputs": [
    {
     "data": {
      "text/plain": [
       "Customer                               2448\n",
       "clli                                   1015\n",
       "year                                      1\n",
       "month                                     1\n",
       "day                                      31\n",
       "date                                     31\n",
       "rack                                      1\n",
       "shelf                                     1\n",
       "slot                                     18\n",
       "port                                     16\n",
       "ont                                      59\n",
       "objectName                             2672\n",
       "berDownstream                           249\n",
       "berUpstream                            3855\n",
       "objectType                                1\n",
       "networkRxLevel                          255\n",
       "modelRxLevel                           4238\n",
       "modemTxLevel                           3063\n",
       "distance                                198\n",
       "opticalTemperature                      655\n",
       "opticalVoltage                           21\n",
       "modemType                                 8\n",
       "status                                    2\n",
       "ranged                                    2\n",
       "laserBiasThreshold                        1\n",
       "laserBiasCurrent                       1447\n",
       "videoAniAgcModePlanned                    2\n",
       "videoAniAgcSetting                        2\n",
       "videoAniOpInfoOpticalSignalLevel         27\n",
       "videoAniOpInfoOpticalSignalLevelDbm      27\n",
       "videoAniOpInfoRfPowerLevel               20\n",
       "videoAniOperState                         3\n",
       "speedProfile                             30\n",
       "Stops_null                                0\n",
       "Stops_Admin-Reset                         4\n",
       "Stops_Idle-Timeout                       14\n",
       "Stops_Lost-Carrier                        4\n",
       "Stops_Lost-Service                       10\n",
       "Stops_NAS-Error                           0\n",
       "Stops_NAS-Request                        13\n",
       "Stops_Port-Error                          0\n",
       "Stops_Service-Unavailable                 0\n",
       "Stops_Session-Timeout                     6\n",
       "Stops_User-Error                          0\n",
       "Stops_User-Request                       55\n",
       "INTENT                                   15\n",
       "CALLCOMPLETIONREASON                     13\n",
       "alarms                                  114\n",
       "Alarm_SECS                              531\n",
       "Session_SECS                           3958\n",
       "total_stops                              60\n",
       "TSO_calls_count                           6\n",
       "SA_TSO                                    7\n",
       "score                                     4\n",
       "REPORT_DATE                              36\n",
       "service_repair                            1\n",
       "TMAX                                     96\n",
       "TMIN                                     87\n",
       "PRCP                                    207\n",
       "SNOW                                      1\n",
       "dtype: int64"
      ]
     },
     "execution_count": 4,
     "metadata": {},
     "output_type": "execute_result"
    }
   ],
   "source": [
    "df.nunique()"
   ]
  },
  {
   "cell_type": "code",
   "execution_count": 5,
   "metadata": {},
   "outputs": [
    {
     "data": {
      "text/plain": [
       "Customer                                 int64\n",
       "clli                                    object\n",
       "year                                     int64\n",
       "month                                    int64\n",
       "day                                      int64\n",
       "date                                    object\n",
       "rack                                     int64\n",
       "shelf                                    int64\n",
       "slot                                     int64\n",
       "port                                     int64\n",
       "ont                                      int64\n",
       "objectName                              object\n",
       "berDownstream                          float64\n",
       "berUpstream                            float64\n",
       "objectType                              object\n",
       "networkRxLevel                         float64\n",
       "modelRxLevel                           float64\n",
       "modemTxLevel                           float64\n",
       "distance                               float64\n",
       "opticalTemperature                     float64\n",
       "opticalVoltage                         float64\n",
       "modemType                              float64\n",
       "status                                  object\n",
       "ranged                                  object\n",
       "laserBiasThreshold                      object\n",
       "laserBiasCurrent                        object\n",
       "videoAniAgcModePlanned                  object\n",
       "videoAniAgcSetting                     float64\n",
       "videoAniOpInfoOpticalSignalLevel        object\n",
       "videoAniOpInfoOpticalSignalLevelDbm     object\n",
       "videoAniOpInfoRfPowerLevel              object\n",
       "videoAniOperState                       object\n",
       "speedProfile                            object\n",
       "Stops_null                             float64\n",
       "Stops_Admin-Reset                      float64\n",
       "Stops_Idle-Timeout                     float64\n",
       "Stops_Lost-Carrier                     float64\n",
       "Stops_Lost-Service                     float64\n",
       "Stops_NAS-Error                        float64\n",
       "Stops_NAS-Request                      float64\n",
       "Stops_Port-Error                       float64\n",
       "Stops_Service-Unavailable              float64\n",
       "Stops_Session-Timeout                  float64\n",
       "Stops_User-Error                       float64\n",
       "Stops_User-Request                     float64\n",
       "INTENT                                  object\n",
       "CALLCOMPLETIONREASON                    object\n",
       "alarms                                   int64\n",
       "Alarm_SECS                               int64\n",
       "Session_SECS                             int64\n",
       "total_stops                              int64\n",
       "TSO_calls_count                        float64\n",
       "SA_TSO                                   int64\n",
       "score                                    int64\n",
       "REPORT_DATE                             object\n",
       "service_repair                         float64\n",
       "TMAX                                   float64\n",
       "TMIN                                   float64\n",
       "PRCP                                   float64\n",
       "SNOW                                   float64\n",
       "dtype: object"
      ]
     },
     "execution_count": 5,
     "metadata": {},
     "output_type": "execute_result"
    }
   ],
   "source": [
    "df.dtypes"
   ]
  },
  {
   "cell_type": "markdown",
   "metadata": {},
   "source": [
    "Try to further identify which data might be troublesome to work with"
   ]
  },
  {
   "cell_type": "code",
   "execution_count": 6,
   "metadata": {},
   "outputs": [
    {
     "data": {
      "text/plain": [
       "<Axes: xlabel='modemType', ylabel='Count'>"
      ]
     },
     "execution_count": 6,
     "metadata": {},
     "output_type": "execute_result"
    },
    {
     "data": {
      "image/png": "[encoded data removed]",
      "text/plain": [
       "<Figure size 640x480 with 1 Axes>"
      ]
     },
     "metadata": {},
     "output_type": "display_data"
    }
   ],
   "source": [
    "sns.histplot(data=df, x='modemType')\n",
    "sns.histplot(data=df, x='videoAniAgcModePlanned')\n",
    "sns.histplot(data=df, x='videoAniOperState')"
   ]
  },
  {
   "cell_type": "markdown",
   "metadata": {},
   "source": [
    "Drop data that is unnecessary, has low unique counts, and too many null values"
   ]
  },
  {
   "cell_type": "code",
   "execution_count": 7,
   "metadata": {},
   "outputs": [],
   "source": [
    "# Drop some data that is unnecessary or has one unique value\n",
    "df = df.drop(['clli', 'year', 'month', 'date', 'rack', 'shelf', 'objectType', 'Stops_null', 'Stops_NAS-Error', 'Stops_Port-Error', 'Stops_Service-Unavailable', 'Stops_User-Error'], axis=1)\n",
    "# Drop some data that has too many null values ( > 60000)\n",
    "df = df.drop(['Stops_Admin-Reset', 'Stops_Idle-Timeout', 'Stops_Lost-Carrier', 'Stops_Lost-Service', 'Stops_NAS-Request', 'Stops_Session-Timeout', 'Stops_User-Request', 'INTENT', 'CALLCOMPLETIONREASON', 'TSO_calls_count', 'REPORT_DATE'], axis=1)\n",
    "# Drop some data that has too many null values ( > 50000)\n",
    "df = df.drop(['videoAniAgcSetting', 'videoAniOpInfoOpticalSignalLevel', 'videoAniOpInfoOpticalSignalLevelDbm', 'videoAniOpInfoRfPowerLevel'], axis=1)\n",
    "# Drop some data that may be too hard to work with (for example: low unique)\n",
    "df = df.drop(['modemType', 'laserBiasThreshold', 'status', 'ranged', 'videoAniAgcModePlanned', 'videoAniOperState', 'score'], axis=1)"
   ]
  },
  {
   "cell_type": "code",
   "execution_count": 8,
   "metadata": {},
   "outputs": [
    {
     "data": {
      "text/plain": [
       "Customer                  0\n",
       "day                       0\n",
       "slot                      0\n",
       "port                      0\n",
       "ont                       0\n",
       "objectName                0\n",
       "berDownstream         35763\n",
       "berUpstream               3\n",
       "networkRxLevel        10354\n",
       "modelRxLevel              0\n",
       "modemTxLevel            107\n",
       "distance                366\n",
       "opticalTemperature        1\n",
       "opticalVoltage            0\n",
       "laserBiasCurrent      26946\n",
       "speedProfile              0\n",
       "alarms                    0\n",
       "Alarm_SECS                0\n",
       "Session_SECS              0\n",
       "total_stops               0\n",
       "SA_TSO                    0\n",
       "service_repair        61691\n",
       "TMAX                   1179\n",
       "TMIN                   1094\n",
       "PRCP                    565\n",
       "SNOW                  38720\n",
       "dtype: int64"
      ]
     },
     "execution_count": 8,
     "metadata": {},
     "output_type": "execute_result"
    }
   ],
   "source": [
    "df.isnull().sum()"
   ]
  },
  {
   "cell_type": "markdown",
   "metadata": {},
   "source": [
    "We have relevant columns now. We can likely fill in missing values with the median value."
   ]
  },
  {
   "cell_type": "code",
   "execution_count": 9,
   "metadata": {},
   "outputs": [],
   "source": [
    "df['berDownstream'] = df['berDownstream'].fillna(df['berDownstream'].median())\n",
    "df['berUpstream'] = df['berUpstream'].fillna(df['berUpstream'].median())\n",
    "df['networkRxLevel'] = df['networkRxLevel'].fillna(df['networkRxLevel'].median())\n",
    "df['modemTxLevel'] = df['modemTxLevel'].fillna(df['modemTxLevel'].median())\n",
    "df['distance'] = df['distance'].fillna(df['distance'].median())\n",
    "df['laserBiasCurrent'] = pd.to_numeric(df['laserBiasCurrent'],errors = 'coerce')\n",
    "df['laserBiasCurrent'] = df['laserBiasCurrent'].fillna(df['laserBiasCurrent'].median())\n",
    "df['opticalTemperature'] = df['opticalTemperature'].fillna(df['opticalTemperature'].median())\n",
    "df['service_repair'] = df['service_repair'].fillna(0)\n",
    "\n",
    "\n",
    "# One hot encoding\n",
    "labelencoder = LabelEncoder()\n",
    "df['speedProfile'] = labelencoder.fit_transform(df['speedProfile'])\n",
    "df['objectName'] = labelencoder.fit_transform(df['objectName'])"
   ]
  },
  {
   "cell_type": "code",
   "execution_count": 10,
   "metadata": {},
   "outputs": [
    {
     "data": {
      "text/plain": [
       "Customer                  0\n",
       "day                       0\n",
       "slot                      0\n",
       "port                      0\n",
       "ont                       0\n",
       "objectName                0\n",
       "berDownstream             0\n",
       "berUpstream               0\n",
       "networkRxLevel            0\n",
       "modelRxLevel              0\n",
       "modemTxLevel              0\n",
       "distance                  0\n",
       "opticalTemperature        0\n",
       "opticalVoltage            0\n",
       "laserBiasCurrent          0\n",
       "speedProfile              0\n",
       "alarms                    0\n",
       "Alarm_SECS                0\n",
       "Session_SECS              0\n",
       "total_stops               0\n",
       "SA_TSO                    0\n",
       "service_repair            0\n",
       "TMAX                   1179\n",
       "TMIN                   1094\n",
       "PRCP                    565\n",
       "SNOW                  38720\n",
       "dtype: int64"
      ]
     },
     "execution_count": 10,
     "metadata": {},
     "output_type": "execute_result"
    }
   ],
   "source": [
    "df.isnull().sum()"
   ]
  },
  {
   "cell_type": "code",
   "execution_count": 11,
   "metadata": {},
   "outputs": [
    {
     "name": "stdout",
     "output_type": "stream",
     "text": [
      "Customer              2448\n",
      "day                     31\n",
      "slot                    18\n",
      "port                    16\n",
      "ont                     59\n",
      "objectName            2672\n",
      "berDownstream          249\n",
      "berUpstream           3855\n",
      "networkRxLevel         255\n",
      "modelRxLevel          4238\n",
      "modemTxLevel          3063\n",
      "distance               198\n",
      "opticalTemperature     655\n",
      "opticalVoltage          21\n",
      "laserBiasCurrent       909\n",
      "speedProfile            30\n",
      "alarms                 114\n",
      "Alarm_SECS             531\n",
      "Session_SECS          3958\n",
      "total_stops             60\n",
      "SA_TSO                   7\n",
      "service_repair           2\n",
      "TMAX                    96\n",
      "TMIN                    87\n",
      "PRCP                   207\n",
      "SNOW                     1\n",
      "dtype: int64\n"
     ]
    }
   ],
   "source": [
    "n = df.nunique(axis=0)\n",
    "print(n)"
   ]
  },
  {
   "cell_type": "markdown",
   "metadata": {},
   "source": [
    "Now that our data does not have null values (except for environment data), check if we can find any relationship between numeric data and service_repair."
   ]
  },
  {
   "cell_type": "code",
   "execution_count": 12,
   "metadata": {},
   "outputs": [
    {
     "name": "stdout",
     "output_type": "stream",
     "text": [
      "Customer -0.013848561509524742\n",
      "day 0.03182666159485242\n",
      "slot -0.0011622402014524237\n",
      "port 0.001106672015921504\n",
      "ont -0.0030361996358431982\n",
      "objectName 0.00549761266828808\n",
      "berDownstream 0.020910498285342204\n",
      "berUpstream 0.011340254656154394\n",
      "networkRxLevel -0.0032562828325130347\n",
      "modelRxLevel -0.004548422206127344\n",
      "modemTxLevel -0.0034791268689406568\n",
      "distance -0.0007110765643655743\n",
      "opticalTemperature -0.004710328592829931\n",
      "opticalVoltage 0.0034234704143573905\n",
      "laserBiasCurrent -0.0032040510883129068\n",
      "speedProfile -0.0009730180032671344\n",
      "alarms 0.006956750408721844\n",
      "Alarm_SECS -0.0004754465963273949\n",
      "Session_SECS -0.09432207347259942\n",
      "total_stops 0.015636966024633003\n",
      "SA_TSO 0.06905148045494691\n",
      "service_repair 1.0\n",
      "TMAX 0.0013085432647492478\n",
      "TMIN -0.007877290928851031\n",
      "PRCP 0.0001483194534181364\n",
      "SNOW nan\n"
     ]
    }
   ],
   "source": [
    "# check for correlation after removing null values from numeric types\n",
    "import warnings\n",
    "warnings.filterwarnings('ignore')\n",
    "for i in df.columns:\n",
    "        tempdf = df[[i, 'service_repair']]\n",
    "        if(tempdf.dtypes[0] == 'object'):\n",
    "            continue;\n",
    "        tempdf.dropna(inplace=True)\n",
    "        print(i, tempdf.corr().iloc[0,1])"
   ]
  },
  {
   "cell_type": "code",
   "execution_count": null,
   "metadata": {},
   "outputs": [],
   "source": [
    "df = pd.read_csv('../../Data/test_data.csv')\n",
    "# Drop some data that is unnecessary or has one unique value\n",
    "df = df.drop(['clli', 'year', 'month', 'date', 'rack', 'shelf', 'objectType', 'Stops_null', 'Stops_NAS-Error', 'Stops_Port-Error', 'Stops_Service-Unavailable', 'Stops_User-Error'], axis=1)\n",
    "# Drop some data that has too many null values ( > 60000)\n",
    "df = df.drop(['Stops_Admin-Reset', 'Stops_Idle-Timeout', 'Stops_Lost-Carrier', 'Stops_Lost-Service', 'Stops_NAS-Request', 'Stops_Session-Timeout', 'Stops_User-Request', 'INTENT', 'CALLCOMPLETIONREASON', 'TSO_calls_count', 'REPORT_DATE'], axis=1)\n",
    "# Drop some data that has too many null values ( > 50000)\n",
    "df = df.drop(['videoAniAgcSetting', 'videoAniOpInfoOpticalSignalLevel', 'videoAniOpInfoOpticalSignalLevelDbm', 'videoAniOpInfoRfPowerLevel'], axis=1)\n",
    "# Drop some data that may be too hard to work with (for example: low unique)\n",
    "df = df.drop(['modemType', 'laserBiasThreshold', 'status', 'ranged', 'videoAniAgcModePlanned', 'videoAniOperState', 'score'], axis=1)\n",
    "df['berDownstream'] = df['berDownstream'].fillna(df['berDownstream'].median())\n",
    "df['berUpstream'] = df['berUpstream'].fillna(df['berUpstream'].median())\n",
    "df['networkRxLevel'] = df['networkRxLevel'].fillna(df['networkRxLevel'].median())\n",
    "df['modemTxLevel'] = df['modemTxLevel'].fillna(df['modemTxLevel'].median())\n",
    "df['distance'] = df['distance'].fillna(df['distance'].median())\n",
    "df['laserBiasCurrent'] = pd.to_numeric(df['laserBiasCurrent'],errors = 'coerce')\n",
    "df['laserBiasCurrent'] = df['laserBiasCurrent'].fillna(df['laserBiasCurrent'].median())\n",
    "df['opticalTemperature'] = df['opticalTemperature'].fillna(df['opticalTemperature'].median())\n",
    "df['service_repair'] = df['service_repair'].fillna(0)\n",
    "\n",
    "\n",
    "# One hot encoding\n",
    "labelencoder = LabelEncoder()\n",
    "df['speedProfile'] = labelencoder.fit_transform(df['speedProfile'])"
   ]
  }
 ],
 "metadata": {
  "kernelspec": {
   "display_name": "Python 3",
   "language": "python",
   "name": "python3"
  },
  "language_info": {
   "codemirror_mode": {
    "name": "ipython",
    "version": 3
   },
   "file_extension": ".py",
   "mimetype": "text/x-python",
   "name": "python",
   "nbconvert_exporter": "python",
   "pygments_lexer": "ipython3",
   "version": "3.11.5"
  }
 },
 "nbformat": 4,
 "nbformat_minor": 2
}
