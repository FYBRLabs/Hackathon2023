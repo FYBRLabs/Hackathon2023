{
 "cells": [
  {
   "cell_type": "code",
   "execution_count": 12,
   "id": "d51fd8e7",
   "metadata": {},
   "outputs": [],
   "source": [
    "import pandas as pd\n",
    "from sklearn.preprocessing import StandardScaler\n",
    "from sklearn.model_selection import train_test_split\n",
    "from sklearn.linear_model import LogisticRegression\n",
    "from joblib import dump, load\n",
    "from sklearn.decomposition import PCA\n",
    "import numpy as np\n",
    "from sklearn.model_selection import GridSearchCV"
   ]
  },
  {
   "cell_type": "code",
   "execution_count": 20,
   "id": "18a5be80",
   "metadata": {
    "scrolled": true
   },
   "outputs": [
    {
     "name": "stdout",
     "output_type": "stream",
     "text": [
      "           Customer         clli  year  month  day       date  rack  shelf  \\\n",
      "0      1.564040e+12  HGLDFLXAOLE  2023      6   22  6/22/2023     1      1   \n",
      "1      1.564050e+12  HGLDFLXAOLE  2023      6   22  6/22/2023     1      1   \n",
      "2      1.564060e+12  HGLDFLXAOLE  2023      6   22  6/22/2023     1      1   \n",
      "3      1.564050e+12  HGLDFLXAOLE  2023      6   22  6/22/2023     1      1   \n",
      "4      1.564040e+12  HGLDFLXAOLE  2023      6   22  6/22/2023     1      1   \n",
      "...             ...          ...   ...    ...  ...        ...   ...    ...   \n",
      "63687  1.330720e+12  HEMTCAXFOLE  2023      6   27  6/27/2023     1      1   \n",
      "63688  1.564030e+12  STFRTXXAOL0  2023      6   19  6/19/2023     1      1   \n",
      "63689  1.564020e+12  HNCYFLXAOL8  2023      6   19  6/19/2023     1      1   \n",
      "63690  3.040660e+11  WHLRINXAOL0  2023      6   19  6/19/2023     1      1   \n",
      "63691  1.143870e+12  WSHNCT00OL0  2023      6   19  6/19/2023     1      1   \n",
      "\n",
      "       slot  port  ...  Alarm_SECS Session_SECS  total_stops  TSO_calls_count  \\\n",
      "0         5     8  ...           0        86400            0              NaN   \n",
      "1         8    14  ...           0        86400            0              NaN   \n",
      "2         4     7  ...           0        86400            0              NaN   \n",
      "3         7     5  ...           0        86400            0              NaN   \n",
      "4         2    15  ...           0        86400            0              NaN   \n",
      "...     ...   ...  ...         ...          ...          ...              ...   \n",
      "63687     2    10  ...           0        86400            0              NaN   \n",
      "63688     5     1  ...           0        86400            0              NaN   \n",
      "63689     1     3  ...           0        86400            0              NaN   \n",
      "63690     2     7  ...           0        86400            0              NaN   \n",
      "63691     4     7  ...           0        86400            0              NaN   \n",
      "\n",
      "      SA_TSO  score   TMAX   TMIN      PRCP  SNOW  \n",
      "0          0      3  89.96  71.06  0.401575   NaN  \n",
      "1          0      3  89.96  71.06  0.401575   NaN  \n",
      "2          0      3  89.96  71.06  0.401575   NaN  \n",
      "3          0      3  89.96  71.06  0.401575   NaN  \n",
      "4          0      3  89.96  71.06  0.401575   NaN  \n",
      "...      ...    ...    ...    ...       ...   ...  \n",
      "63687      0      3    NaN    NaN       NaN   NaN  \n",
      "63688      0      3    NaN    NaN       NaN   NaN  \n",
      "63689      0      3    NaN    NaN       NaN   NaN  \n",
      "63690      0      3    NaN    NaN       NaN   NaN  \n",
      "63691      0      3    NaN    NaN       NaN   NaN  \n",
      "\n",
      "[63692 rows x 58 columns]\n"
     ]
    }
   ],
   "source": [
    "A = pd.read_csv('/Users/az/Desktop/test_data.csv')\n",
    "output=pd.read_csv('/Users/az/Desktop/customers_ToBePredicted.csv')\n",
    "B=pd.DataFrame()\n",
    "#print(B)\n",
    "B = A\n",
    "A = A.applymap(convert_to_int)\n",
    "print (B)"
   ]
  },
  {
   "cell_type": "code",
   "execution_count": 21,
   "id": "7b18aa5e",
   "metadata": {},
   "outputs": [],
   "source": [
    "B = B.applymap(convert_to_int)\n",
    "\n",
    "i=0\n",
    "B= B.fillna(0)\n",
    "\n",
    "\n",
    "columns_to_drop = ['Customer', 'clli','objectName','objectType']\n",
    "B = B.drop(columns_to_drop,axis=1)\n",
    "B= B.fillna(0)\n",
    "scaler = StandardScaler()\n",
    "scaler.fit(B)\n",
    "scaled_data = scaler.transform(B)\n",
    "pca = PCA(n_components=40)\n",
    "pca.fit(scaled_data)\n",
    "x_pca = pca.transform(scaled_data)"
   ]
  },
  {
   "cell_type": "code",
   "execution_count": 26,
   "id": "c9829884",
   "metadata": {},
   "outputs": [
    {
     "data": {
      "text/plain": [
       "Index(['Customer', 'service_repair'], dtype='object')"
      ]
     },
     "execution_count": 26,
     "metadata": {},
     "output_type": "execute_result"
    }
   ],
   "source": [
    "log_reg=load('jame.joblib')\n",
    "log_reg.predict(x_pca)\n",
    "win = log_reg.predict(x_pca)\n",
    "output.keys()"
   ]
  },
  {
   "cell_type": "code",
   "execution_count": 30,
   "id": "6f2c0033",
   "metadata": {
    "scrolled": true
   },
   "outputs": [
    {
     "name": "stdout",
     "output_type": "stream",
     "text": [
      "           Customer  service_repair\n",
      "0     1563344546638             0.0\n",
      "1     1564011913587             0.0\n",
      "2     1564034361495             0.0\n",
      "3     1563915867124             0.0\n",
      "4     1564063266929             0.0\n",
      "...             ...             ...\n",
      "2597  1330525860524             0.0\n",
      "2598  1564068659570             0.0\n",
      "2599  1564064789354             0.0\n",
      "2600  1564055231564             0.0\n",
      "2601  1564001098020             0.0\n",
      "\n",
      "[2602 rows x 2 columns]\n"
     ]
    }
   ],
   "source": [
    "win=win[: len(output)]\n",
    "output['service_repair'] = win\n",
    "print (output)"
   ]
  },
  {
   "cell_type": "code",
   "execution_count": null,
   "id": "5d43f940",
   "metadata": {},
   "outputs": [],
   "source": []
  }
 ],
 "metadata": {
  "kernelspec": {
   "display_name": "Python 3 (ipykernel)",
   "language": "python",
   "name": "python3"
  },
  "language_info": {
   "codemirror_mode": {
    "name": "ipython",
    "version": 3
   },
   "file_extension": ".py",
   "mimetype": "text/x-python",
   "name": "python",
   "nbconvert_exporter": "python",
   "pygments_lexer": "ipython3",
   "version": "3.9.12"
  }
 },
 "nbformat": 4,
 "nbformat_minor": 5
}
